{
 "cells": [
  {
   "cell_type": "code",
   "execution_count": 1,
   "metadata": {},
   "outputs": [
    {
     "name": "stderr",
     "output_type": "stream",
     "text": [
      "[nltk_data] Downloading package vader_lexicon to\n",
      "[nltk_data]     C:\\Users\\salma\\AppData\\Roaming\\nltk_data...\n",
      "[nltk_data]   Package vader_lexicon is already up-to-date!\n",
      "[nltk_data] Downloading package punkt to\n",
      "[nltk_data]     C:\\Users\\salma\\AppData\\Roaming\\nltk_data...\n",
      "[nltk_data]   Package punkt is already up-to-date!\n"
     ]
    }
   ],
   "source": [
    "## Importing relevant libraries\n",
    "\n",
    "import pandas as pd\n",
    "import numpy as np\n",
    "\n",
    "import nltk\n",
    "from nltk.sentiment.vader import SentimentIntensityAnalyzer\n",
    "nltk.download('vader_lexicon')\n",
    "nltk.download('punkt')\n",
    "\n",
    "## Stop warnings\n",
    "import warnings\n",
    "warnings.filterwarnings('ignore')"
   ]
  },
  {
   "cell_type": "code",
   "execution_count": 2,
   "metadata": {},
   "outputs": [
    {
     "name": "stdout",
     "output_type": "stream",
     "text": [
      "(142570, 5)\n"
     ]
    },
    {
     "data": {
      "text/html": [
       "<div>\n",
       "<style scoped>\n",
       "    .dataframe tbody tr th:only-of-type {\n",
       "        vertical-align: middle;\n",
       "    }\n",
       "\n",
       "    .dataframe tbody tr th {\n",
       "        vertical-align: top;\n",
       "    }\n",
       "\n",
       "    .dataframe thead th {\n",
       "        text-align: right;\n",
       "    }\n",
       "</style>\n",
       "<table border=\"1\" class=\"dataframe\">\n",
       "  <thead>\n",
       "    <tr style=\"text-align: right;\">\n",
       "      <th></th>\n",
       "      <th>title</th>\n",
       "      <th>content</th>\n",
       "      <th>author</th>\n",
       "      <th>publication</th>\n",
       "      <th>content_lemmatized</th>\n",
       "    </tr>\n",
       "  </thead>\n",
       "  <tbody>\n",
       "    <tr>\n",
       "      <th>0</th>\n",
       "      <td>house republicans fret winning health care sui...</td>\n",
       "      <td>washington congressional republicans new fear ...</td>\n",
       "      <td>Carl Hulse</td>\n",
       "      <td>New York Times</td>\n",
       "      <td>washington congressional republican new fear c...</td>\n",
       "    </tr>\n",
       "    <tr>\n",
       "      <th>1</th>\n",
       "      <td>rift officers residents killings persist south...</td>\n",
       "      <td>bullet shells get counted blood dries votive c...</td>\n",
       "      <td>Benjamin Mueller and Al Baker</td>\n",
       "      <td>New York Times</td>\n",
       "      <td>bullet shell get counted blood dry votive cand...</td>\n",
       "    </tr>\n",
       "    <tr>\n",
       "      <th>2</th>\n",
       "      <td>tyrus wong bambi artist thwarted racial bias d...</td>\n",
       "      <td>walt disney bambi opened critics praised spare...</td>\n",
       "      <td>Margalit Fox</td>\n",
       "      <td>New York Times</td>\n",
       "      <td>walt disney bambi opened critic praised spare ...</td>\n",
       "    </tr>\n",
       "    <tr>\n",
       "      <th>3</th>\n",
       "      <td>among deaths heavy toll pop music new york times</td>\n",
       "      <td>death may great equalizer necessarily evenhand...</td>\n",
       "      <td>William McDonald</td>\n",
       "      <td>New York Times</td>\n",
       "      <td>death may great equalizer necessarily evenhand...</td>\n",
       "    </tr>\n",
       "    <tr>\n",
       "      <th>4</th>\n",
       "      <td>kim jong un says north korea preparing test lo...</td>\n",
       "      <td>seoul south korea north korea leader kim said ...</td>\n",
       "      <td>Choe Sang-Hun</td>\n",
       "      <td>New York Times</td>\n",
       "      <td>seoul south korea north korea leader kim said ...</td>\n",
       "    </tr>\n",
       "  </tbody>\n",
       "</table>\n",
       "</div>"
      ],
      "text/plain": [
       "                                               title  \\\n",
       "0  house republicans fret winning health care sui...   \n",
       "1  rift officers residents killings persist south...   \n",
       "2  tyrus wong bambi artist thwarted racial bias d...   \n",
       "3   among deaths heavy toll pop music new york times   \n",
       "4  kim jong un says north korea preparing test lo...   \n",
       "\n",
       "                                             content  \\\n",
       "0  washington congressional republicans new fear ...   \n",
       "1  bullet shells get counted blood dries votive c...   \n",
       "2  walt disney bambi opened critics praised spare...   \n",
       "3  death may great equalizer necessarily evenhand...   \n",
       "4  seoul south korea north korea leader kim said ...   \n",
       "\n",
       "                          author     publication  \\\n",
       "0                     Carl Hulse  New York Times   \n",
       "1  Benjamin Mueller and Al Baker  New York Times   \n",
       "2                   Margalit Fox  New York Times   \n",
       "3               William McDonald  New York Times   \n",
       "4                  Choe Sang-Hun  New York Times   \n",
       "\n",
       "                                  content_lemmatized  \n",
       "0  washington congressional republican new fear c...  \n",
       "1  bullet shell get counted blood dry votive cand...  \n",
       "2  walt disney bambi opened critic praised spare ...  \n",
       "3  death may great equalizer necessarily evenhand...  \n",
       "4  seoul south korea north korea leader kim said ...  "
      ]
     },
     "execution_count": 2,
     "metadata": {},
     "output_type": "execute_result"
    }
   ],
   "source": [
    "## Loading the data\n",
    "\n",
    "df = pd.read_csv(r'data\\articles_preprocessed.csv')\n",
    "print(df.shape)\n",
    "df.head()"
   ]
  },
  {
   "cell_type": "code",
   "execution_count": 3,
   "metadata": {},
   "outputs": [
    {
     "data": {
      "text/plain": [
       "title                  37\n",
       "content               108\n",
       "author                  0\n",
       "publication             0\n",
       "content_lemmatized    108\n",
       "dtype: int64"
      ]
     },
     "execution_count": 3,
     "metadata": {},
     "output_type": "execute_result"
    }
   ],
   "source": [
    "## Checking for missing values\n",
    "\n",
    "df.isnull().sum()"
   ]
  },
  {
   "cell_type": "code",
   "execution_count": 4,
   "metadata": {},
   "outputs": [
    {
     "name": "stdout",
     "output_type": "stream",
     "text": [
      "(142426, 5)\n"
     ]
    }
   ],
   "source": [
    "## Dropping missing values\n",
    "\n",
    "df.dropna(inplace=True)\n",
    "df.reset_index(drop=True, inplace=True)\n",
    "print(df.shape)"
   ]
  },
  {
   "cell_type": "code",
   "execution_count": 5,
   "metadata": {},
   "outputs": [],
   "source": [
    "## Function to perform sentiment analysis\n",
    "\n",
    "def analyze_sentiment(article):\n",
    "    \n",
    "    analyzer = SentimentIntensityAnalyzer()\n",
    "    sentiment_score = analyzer.polarity_scores(article)\n",
    "\n",
    "    compound_score = sentiment_score['compound']\n",
    "\n",
    "    if compound_score >= 0.05:\n",
    "        sentiment = 'positive'\n",
    "    elif compound_score <= -0.05:\n",
    "        sentiment = 'negative'\n",
    "    else:\n",
    "        sentiment = 'neutral'\n",
    "\n",
    "    return sentiment, compound_score"
   ]
  },
  {
   "cell_type": "code",
   "execution_count": 6,
   "metadata": {},
   "outputs": [
    {
     "name": "stdout",
     "output_type": "stream",
     "text": [
      "0\n",
      "10000\n",
      "20000\n",
      "30000\n",
      "40000\n",
      "50000\n",
      "60000\n",
      "70000\n",
      "80000\n",
      "90000\n",
      "100000\n",
      "110000\n",
      "120000\n",
      "130000\n",
      "140000\n"
     ]
    },
    {
     "data": {
      "text/html": [
       "<div>\n",
       "<style scoped>\n",
       "    .dataframe tbody tr th:only-of-type {\n",
       "        vertical-align: middle;\n",
       "    }\n",
       "\n",
       "    .dataframe tbody tr th {\n",
       "        vertical-align: top;\n",
       "    }\n",
       "\n",
       "    .dataframe thead th {\n",
       "        text-align: right;\n",
       "    }\n",
       "</style>\n",
       "<table border=\"1\" class=\"dataframe\">\n",
       "  <thead>\n",
       "    <tr style=\"text-align: right;\">\n",
       "      <th></th>\n",
       "      <th>title</th>\n",
       "      <th>content</th>\n",
       "      <th>author</th>\n",
       "      <th>publication</th>\n",
       "      <th>content_lemmatized</th>\n",
       "      <th>sentiment</th>\n",
       "      <th>compound_score</th>\n",
       "    </tr>\n",
       "  </thead>\n",
       "  <tbody>\n",
       "    <tr>\n",
       "      <th>0</th>\n",
       "      <td>house republicans fret winning health care sui...</td>\n",
       "      <td>washington congressional republicans new fear ...</td>\n",
       "      <td>Carl Hulse</td>\n",
       "      <td>New York Times</td>\n",
       "      <td>washington congressional republican new fear c...</td>\n",
       "      <td>positive</td>\n",
       "      <td>0.6497</td>\n",
       "    </tr>\n",
       "    <tr>\n",
       "      <th>1</th>\n",
       "      <td>rift officers residents killings persist south...</td>\n",
       "      <td>bullet shells get counted blood dries votive c...</td>\n",
       "      <td>Benjamin Mueller and Al Baker</td>\n",
       "      <td>New York Times</td>\n",
       "      <td>bullet shell get counted blood dry votive cand...</td>\n",
       "      <td>negative</td>\n",
       "      <td>-0.9999</td>\n",
       "    </tr>\n",
       "    <tr>\n",
       "      <th>2</th>\n",
       "      <td>tyrus wong bambi artist thwarted racial bias d...</td>\n",
       "      <td>walt disney bambi opened critics praised spare...</td>\n",
       "      <td>Margalit Fox</td>\n",
       "      <td>New York Times</td>\n",
       "      <td>walt disney bambi opened critic praised spare ...</td>\n",
       "      <td>positive</td>\n",
       "      <td>0.9888</td>\n",
       "    </tr>\n",
       "    <tr>\n",
       "      <th>3</th>\n",
       "      <td>among deaths heavy toll pop music new york times</td>\n",
       "      <td>death may great equalizer necessarily evenhand...</td>\n",
       "      <td>William McDonald</td>\n",
       "      <td>New York Times</td>\n",
       "      <td>death may great equalizer necessarily evenhand...</td>\n",
       "      <td>negative</td>\n",
       "      <td>-0.8609</td>\n",
       "    </tr>\n",
       "    <tr>\n",
       "      <th>4</th>\n",
       "      <td>kim jong un says north korea preparing test lo...</td>\n",
       "      <td>seoul south korea north korea leader kim said ...</td>\n",
       "      <td>Choe Sang-Hun</td>\n",
       "      <td>New York Times</td>\n",
       "      <td>seoul south korea north korea leader kim said ...</td>\n",
       "      <td>positive</td>\n",
       "      <td>0.9789</td>\n",
       "    </tr>\n",
       "  </tbody>\n",
       "</table>\n",
       "</div>"
      ],
      "text/plain": [
       "                                               title  \\\n",
       "0  house republicans fret winning health care sui...   \n",
       "1  rift officers residents killings persist south...   \n",
       "2  tyrus wong bambi artist thwarted racial bias d...   \n",
       "3   among deaths heavy toll pop music new york times   \n",
       "4  kim jong un says north korea preparing test lo...   \n",
       "\n",
       "                                             content  \\\n",
       "0  washington congressional republicans new fear ...   \n",
       "1  bullet shells get counted blood dries votive c...   \n",
       "2  walt disney bambi opened critics praised spare...   \n",
       "3  death may great equalizer necessarily evenhand...   \n",
       "4  seoul south korea north korea leader kim said ...   \n",
       "\n",
       "                          author     publication  \\\n",
       "0                     Carl Hulse  New York Times   \n",
       "1  Benjamin Mueller and Al Baker  New York Times   \n",
       "2                   Margalit Fox  New York Times   \n",
       "3               William McDonald  New York Times   \n",
       "4                  Choe Sang-Hun  New York Times   \n",
       "\n",
       "                                  content_lemmatized sentiment  compound_score  \n",
       "0  washington congressional republican new fear c...  positive          0.6497  \n",
       "1  bullet shell get counted blood dry votive cand...  negative         -0.9999  \n",
       "2  walt disney bambi opened critic praised spare ...  positive          0.9888  \n",
       "3  death may great equalizer necessarily evenhand...  negative         -0.8609  \n",
       "4  seoul south korea north korea leader kim said ...  positive          0.9789  "
      ]
     },
     "execution_count": 6,
     "metadata": {},
     "output_type": "execute_result"
    }
   ],
   "source": [
    "## Performing sentiment analysis\n",
    "\n",
    "df['sentiment'] = np.nan\n",
    "df['compound_score'] = np.nan\n",
    "\n",
    "for i in range(len(df)):\n",
    "    df['sentiment'][i], df['compound_score'][i] = analyze_sentiment(df['content_lemmatized'][i])\n",
    "\n",
    "    if i % 10000 == 0:\n",
    "        print(i, sep=' ')\n",
    "\n",
    "df.head()"
   ]
  },
  {
   "cell_type": "code",
   "execution_count": 7,
   "metadata": {},
   "outputs": [
    {
     "data": {
      "text/plain": [
       "positive    85085\n",
       "negative    55802\n",
       "neutral      1539\n",
       "Name: sentiment, dtype: int64"
      ]
     },
     "execution_count": 7,
     "metadata": {},
     "output_type": "execute_result"
    }
   ],
   "source": [
    "## class distribution in the dataset\n",
    "\n",
    "df['sentiment'].value_counts()"
   ]
  },
  {
   "cell_type": "code",
   "execution_count": 8,
   "metadata": {},
   "outputs": [],
   "source": [
    "## saving the data\n",
    "\n",
    "df.to_csv(r'data\\articles_sentiment.csv', index=False)"
   ]
  },
  {
   "cell_type": "code",
   "execution_count": null,
   "metadata": {},
   "outputs": [],
   "source": []
  }
 ],
 "metadata": {
  "kernelspec": {
   "display_name": "machinelearning",
   "language": "python",
   "name": "python3"
  },
  "language_info": {
   "codemirror_mode": {
    "name": "ipython",
    "version": 3
   },
   "file_extension": ".py",
   "mimetype": "text/x-python",
   "name": "python",
   "nbconvert_exporter": "python",
   "pygments_lexer": "ipython3",
   "version": "3.10.8"
  },
  "orig_nbformat": 4
 },
 "nbformat": 4,
 "nbformat_minor": 2
}
